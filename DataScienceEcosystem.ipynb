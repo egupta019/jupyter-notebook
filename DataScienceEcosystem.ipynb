{
 "cells": [
  {
   "cell_type": "markdown",
   "id": "afc418c0-52a6-4f72-8f01-e31f1e67ecec",
   "metadata": {
    "tags": []
   },
   "source": [
    "# Data Science Tools and Ecosystem\n",
    "\n",
    "\n",
    "\n",
    "\n"
   ]
  },
  {
   "cell_type": "markdown",
   "id": "1675bd8a-33d6-45fc-affd-3c81e03b486d",
   "metadata": {},
   "source": [
    "## In this notebook, Data Science Tools and Ecosystem are summarized\n",
    "\n"
   ]
  },
  {
   "cell_type": "markdown",
   "id": "ff7069af-c506-49fa-8905-fd662c0ff678",
   "metadata": {},
   "source": [
    "# markdown cell to list data science languages\n",
    "1. Pythom\n",
    "2. R\n",
    "3. julia\n"
   ]
  },
  {
   "cell_type": "markdown",
   "id": "44b3be22-cc0a-4a2e-9eb3-fb65575c9648",
   "metadata": {},
   "source": [
    "# Some of the commonly used libraries used by Data Scientists include\n",
    " ## 1.libraries for the python \n",
    " ### a. pandas\n",
    " ### b. Numpy\n",
    " ### c. scikit-Learn\n",
    " ### d. Tensor flow\n",
    " ## 2. python visulisation libraries\n",
    " ### a. matplotlib\n",
    " ### b. seaborn\n",
    " ### c. plotly\n",
    " \n"
   ]
  },
  {
   "cell_type": "markdown",
   "id": "1b873e24-9f03-484e-ba83-99ff2398202e",
   "metadata": {},
   "source": [
    "# Markdown cell for data Science Tools\n",
    "\n",
    "  |Data Science Tools|\n",
    "| ---------------|\n",
    "|Hadoop |\n",
    "|Apache-Spark | \n",
    "|jupyter |\n",
    "    \n",
    "    \n",
    " "
   ]
  },
  {
   "cell_type": "code",
   "execution_count": 3,
   "id": "fd378f41-f31a-41e1-a223-90ef96dddec4",
   "metadata": {
    "tags": []
   },
   "outputs": [
    {
     "data": {
      "text/plain": [
       "17"
      ]
     },
     "execution_count": 3,
     "metadata": {},
     "output_type": "execute_result"
    }
   ],
   "source": [
    "\n",
    "### Below are a few examples of evaluating arithmetic expressions in Python\n",
    "\n",
    "# This a simple arithmetic expression to mutiply then add integers\n",
    "\n",
    "(3*4)+5\n",
    "\n"
   ]
  },
  {
   "cell_type": "code",
   "execution_count": 13,
   "id": "95e76225-eced-48e8-8133-026180582948",
   "metadata": {
    "tags": []
   },
   "outputs": [
    {
     "name": "stdout",
     "output_type": "stream",
     "text": [
      "3.3333333333333335\n"
     ]
    }
   ],
   "source": [
    " # This will convert 200 minutes to hours by diving by 60\n",
    "x=200/60\n",
    "print(x)\n"
   ]
  },
  {
   "cell_type": "markdown",
   "id": "d7471f62-b379-404b-8464-8745e0433563",
   "metadata": {},
   "source": [
    " **it contains list of Objectives**\n",
    " * Data science languages \n",
    " * Data science libraries\n",
    " * Data science tools\n",
    " * expression"
   ]
  },
  {
   "cell_type": "markdown",
   "id": "829e7988-6b10-44b2-869f-9b9ef48a1007",
   "metadata": {
    "tags": []
   },
   "source": [
    "## Author\n",
    "EKTA GUPTA"
   ]
  },
  {
   "cell_type": "code",
   "execution_count": null,
   "id": "165f1eaa-ed02-4144-8439-70e1d3ff7c55",
   "metadata": {},
   "outputs": [],
   "source": []
  }
 ],
 "metadata": {
  "kernelspec": {
   "display_name": "Python",
   "language": "python",
   "name": "conda-env-python-py"
  },
  "language_info": {
   "codemirror_mode": {
    "name": "ipython",
    "version": 3
   },
   "file_extension": ".py",
   "mimetype": "text/x-python",
   "name": "python",
   "nbconvert_exporter": "python",
   "pygments_lexer": "ipython3",
   "version": "3.7.12"
  }
 },
 "nbformat": 4,
 "nbformat_minor": 5
}
